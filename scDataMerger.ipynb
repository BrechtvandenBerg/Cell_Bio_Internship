{
 "cells": [
  {
   "cell_type": "code",
   "execution_count": 1,
   "metadata": {},
   "outputs": [
    {
     "name": "stdout",
     "output_type": "stream",
     "text": [
      "1\n"
     ]
    }
   ],
   "source": [
    "print(\"1\")\n"
   ]
  },
  {
   "cell_type": "markdown",
   "metadata": {},
   "source": []
  },
  {
   "cell_type": "code",
   "execution_count": 2,
   "metadata": {},
   "outputs": [],
   "source": [
    "import numpy as np\n",
    "import pandas as pd\n",
    "import scanpy as sc\n",
    "import anndata as ad\n"
   ]
  },
  {
   "cell_type": "code",
   "execution_count": 3,
   "metadata": {},
   "outputs": [],
   "source": [
    "# Allocate the paths to the directories\n",
    "directory1 = \"/scratch/bvdberg/SoloTE/run_A018/A018_SoloTE_output/A018_locustes_MATRIX/\"\n",
    "directory2 = \"/scratch/bvdberg/SoloTE/run_A019/A019_SoloTE_output/A019_locustes_MATRIX/\"\n",
    "directory3 = \"/scratch/bvdberg/SoloTE/run_A020/A020_SoloTE_output/A020_locustes_MATRIX/\"\n"
   ]
  },
  {
   "cell_type": "code",
   "execution_count": 4,
   "metadata": {},
   "outputs": [
    {
     "name": "stdout",
     "output_type": "stream",
     "text": [
      "Index(['0', '1', '2', '3', '4', '5', '6', '7', '8', '9'], dtype='object')\n",
      "Index(['0', '1', '2', '3', '4', '5', '6', '7', '8', '9'], dtype='object')\n"
     ]
    }
   ],
   "source": [
    "# Read in each matrix with their accompanying barcodes and features\n",
    "adata1 = sc.read_mtx(directory1+\"matrix.mtx\")\n",
    "print(adata1.obs_names[:10])\n",
    "print(adata1.var_names[:10])\n",
    "barcode1 = pd.read_csv(directory1+\"barcodes.tsv\", header=None, names=[\"barcode\"])\n",
    "feature1 = pd.read_csv(directory1+\"features.tsv\", sep=\"\\t\", header=None, names=[\"gene_name\"])\n",
    "\n",
    "# To resolve a ValueError: Length of passed value for obs_names is 114950, but this AnnData has shape: (159348, 114950) \n",
    "# We transpose the data so the axis are swapped with each other so they correspond with the lenghts of the features and barcodes\n",
    "adata1 = adata1.transpose()\n",
    "\n",
    "# Allocate the features and barcodes to the respective annotation data\n",
    "adata1.obs_names = barcode1[\"barcode\"]\n",
    "adata1.var_names = feature1[\"gene_name\"]\n",
    "\n",
    "adata2 = sc.read_mtx(directory2+\"matrix.mtx\")\n",
    "barcode2 = pd.read_csv(directory2+\"barcodes.tsv\", header=None, names=[\"barcode\"])\n",
    "feature2 = pd.read_csv(directory2+\"features.tsv\", sep=\"\\t\", header=None, names=[\"gene_name\"])\n",
    "\n",
    "adata2 = adata2.transpose()\n",
    "\n",
    "adata2.obs_names = barcode2[\"barcode\"]\n",
    "adata2.var_names = feature2[\"gene_name\"]\n",
    "\n",
    "adata3 = sc.read_mtx(directory3+\"matrix.mtx\")\n",
    "barcode3 = pd.read_csv(directory3+\"barcodes.tsv\", header=None, names=[\"barcode\"])\n",
    "feature3 = pd.read_csv(directory3+\"features.tsv\", sep=\"\\t\", header=None, names=[\"gene_name\"])\n",
    "\n",
    "adata3 = adata3.transpose()\n",
    "\n",
    "adata3.obs_names = barcode3[\"barcode\"]\n",
    "adata3.var_names = feature3[\"gene_name\"]\n"
   ]
  },
  {
   "cell_type": "code",
   "execution_count": 5,
   "metadata": {},
   "outputs": [
    {
     "name": "stdout",
     "output_type": "stream",
     "text": [
      "adata1\n",
      "Index(['ACACCGGTCCAGAGGA-1', 'ACAGCCGGTAAGTGTA-1', 'ACAGCTAGTAGATTAG-1',\n",
      "       'ACATCAGGTTGCCTCT-1', 'ACATGGTTCTCCTATA-1', 'ACGAGGAAGTGTTAGA-1',\n",
      "       'ACGAGGAGTACAGACG-1', 'ACGCCAGCAGAGTGTG-1', 'ACGGGTCTCTAGAGTC-1',\n",
      "       'ACGTCAAGTATAGTAG-1',\n",
      "       ...\n",
      "       'CTGGTCTTCCTATGTT-1', 'GGCCGATAGTATTGGA-1', 'CTTACCGCACGTCTCT-1',\n",
      "       'AGCTTGACACCATCCT-1', 'ATTCTACTCCCTCTTT-1', 'CCTTCCCTCATGTCTT-1',\n",
      "       'GCTGCTTGTCTCTCTG-1', 'GTTTCTATCTCTGTCG-1', 'TTCGGTCTCTAACTCT-1',\n",
      "       'TTGCCGTCACTCTGTC-1'],\n",
      "      dtype='object', name='barcode', length=118278)\n",
      "Index(['0610039K10Rik', '0610040B10Rik', '0610040F04Rik', '0610040J01Rik',\n",
      "       '0610043K17Rik', '1010001B22Rik', '1100001I12Rik', '1110002J07Rik',\n",
      "       '1110002L01Rik', '1110004F10Rik',\n",
      "       ...\n",
      "       'SoloTE|chrY|90804592|90804705|B1_Mus2:Alu:SINE|19.1|-',\n",
      "       'SoloTE|chrY|90804713|90805946|L1_Mm:L1:LINE|25.1|-',\n",
      "       'SoloTE|chrY|90806301|90806444|B1_Mus2:Alu:SINE|18.8|-',\n",
      "       'SoloTE|chrY|90806863|90806976|B1_Mus2:Alu:SINE|19.1|-',\n",
      "       'SoloTE|chrY|90806984|90807239|L1_Mm:L1:LINE|6.2|-',\n",
      "       'SoloTE|chrY|90808180|90808635|L1_Mm:L1:LINE|8.4|-',\n",
      "       'SoloTE|chrY|90811149|90811351|RLTR40:ERVK:LTR|29.1|+',\n",
      "       'SoloTE|chrY|9646600|9650988|MuRRS-int:ERV1:LTR|17.7|-',\n",
      "       'SoloTE|chrY|9763455|9769662|L1Md_T:L1:LINE|4.2|-',\n",
      "       'SoloTE|chrY|9825878|9826873|L1Md_T:L1:LINE|5.9|+'],\n",
      "      dtype='object', name='gene_name', length=156956)\n"
     ]
    }
   ],
   "source": [
    "print(\"adata1\")\n",
    "print(adata1.obs_names[10:])\n",
    "print(adata1.var_names[10:])\n",
    "# print(\"adata2\")\n",
    "# print(adata2.obs_names[:10])\n",
    "# print(adata2.var_names[:10])\n",
    "# print(\"adata3\")\n",
    "# print(adata3.obs_names[:10])\n",
    "# print(adata3.var_names[:10])\n"
   ]
  },
  {
   "cell_type": "code",
   "execution_count": 6,
   "metadata": {},
   "outputs": [
    {
     "name": "stderr",
     "output_type": "stream",
     "text": [
      "/mbshome/bvdberg/miniconda3/envs/scanpy/lib/python3.11/site-packages/anndata/_core/anndata.py:1838: UserWarning: Observation names are not unique. To make them unique, call `.obs_names_make_unique`.\n",
      "  utils.warn_names_duplicates(\"obs\")\n"
     ]
    }
   ],
   "source": [
    "# Give each dataset their own label to keep track of where they came from\n",
    "adatas = {\"A018\": adata1, \"A019\": adata2, \"A020\": adata3}\n",
    "\n",
    "# Combine the adata sets to one data set with the Concatenate function, we use 'outer' to preserve as much data as possible. Missing variablles will become NaN values\n",
    "adatas = ad.concat(adatas, label=\"dataset_origin\",  join=\"outer\")\n",
    "# adatas.obs_names_make_unique()\n"
   ]
  },
  {
   "cell_type": "code",
   "execution_count": 7,
   "metadata": {},
   "outputs": [
    {
     "name": "stdout",
     "output_type": "stream",
     "text": [
      "AnnData object with n_obs × n_vars = 118288 × 156966\n",
      "AnnData object with n_obs × n_vars = 114950 × 159348\n",
      "AnnData object with n_obs × n_vars = 123423 × 164554\n",
      "AnnData object with n_obs × n_vars = 356661 × 313925\n",
      "    obs: 'dataset_origin'\n"
     ]
    }
   ],
   "source": [
    "print (adata1)\n",
    "print (adata2)\n",
    "print (adata3)\n",
    "print (adatas)\n"
   ]
  },
  {
   "cell_type": "code",
   "execution_count": 8,
   "metadata": {},
   "outputs": [],
   "source": [
    "bonemarrow_h5ad = ad.read_h5ad('/scratch/bvdberg/Data/bonemarrow_m.h5ad')\n"
   ]
  },
  {
   "cell_type": "code",
   "execution_count": 9,
   "metadata": {},
   "outputs": [
    {
     "name": "stdout",
     "output_type": "stream",
     "text": [
      "AnnData object with n_obs × n_vars = 14434 × 2000\n",
      "    obs: 'nCount_RNA', 'nFeature_RNA', 'sampleID', 'tissue', 'model', 'age', 'model_age', 'mouseID', 'doublet_scores', 'percent.mt', 'percent.ribo', 'percent.hb', 'percent.hist', 'S.Score', 'G2M.Score', 'group_umap_sub', 'annotation_lv0', 'annotation_lv1', 'annotation_lv2', 'annotation_lv3', 'phase'\n",
      "    var: 'vst.mean', 'vst.variance', 'vst.variance.expected', 'vst.variance.standardized', 'vst.variable'\n",
      "    obsm: 'X_tsne', 'X_umap', 'X_umap_sub', 'X_umap_tissue'\n"
     ]
    }
   ],
   "source": [
    "print (bonemarrow_h5ad)\n"
   ]
  },
  {
   "cell_type": "code",
   "execution_count": null,
   "metadata": {},
   "outputs": [],
   "source": [
    "old_spf_bonemarrow_adata = ad.concat([bonemarrow_h5ad,adatas],join=\"outer\")\n"
   ]
  }
 ],
 "metadata": {
  "kernelspec": {
   "display_name": "scanpy",
   "language": "python",
   "name": "scanpy"
  },
  "language_info": {
   "codemirror_mode": {
    "name": "ipython",
    "version": 3
   },
   "file_extension": ".py",
   "mimetype": "text/x-python",
   "name": "python",
   "nbconvert_exporter": "python",
   "pygments_lexer": "ipython3",
   "version": "3.11.6"
  }
 },
 "nbformat": 4,
 "nbformat_minor": 2
}
