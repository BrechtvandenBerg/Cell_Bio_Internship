{
 "cells": [
  {
   "cell_type": "code",
   "execution_count": 1,
   "metadata": {},
   "outputs": [],
   "source": [
    "import glob\n",
    "import os\n",
    "\n",
    "import anndata as ad\n",
    "import numpy as np\n",
    "import pandas as pd\n",
    "import scanpy as sc\n"
   ]
  },
  {
   "cell_type": "code",
   "execution_count": 2,
   "metadata": {},
   "outputs": [],
   "source": [
    "# Allocate the base directory of the data\n",
    "base_dir = \"/scratch/bvdberg/SoloTE/\"\n",
    "\n",
    "# Use glob to find directories matching the pattern\n",
    "directories = glob.glob(\n",
    "    os.path.join(base_dir, \"run_*/\", \"*_SoloTE_output/\", \"*_locustes_MATRIX\")\n",
    ")\n",
    "anndata = {}\n"
   ]
  },
  {
   "cell_type": "code",
   "execution_count": 3,
   "metadata": {},
   "outputs": [],
   "source": [
    "for directory in directories:\n",
    "    # Set the wildcard per directory\n",
    "    wildcard = os.path.basename(os.path.dirname(directory))\n",
    "\n",
    "    # Check if the required files exist in the directory\n",
    "    matrix_file = os.path.join(directory, \"matrix.mtx\")\n",
    "    barcodes_file = os.path.join(directory, \"barcodes.tsv\")\n",
    "    features_file = os.path.join(directory, \"features.tsv\")\n",
    "\n",
    "    if (\n",
    "        os.path.exists(matrix_file)\n",
    "        and os.path.exists(barcodes_file)\n",
    "        and os.path.exists(features_file)\n",
    "    ):\n",
    "        # Create a new AnnData object for each directory\n",
    "        adata = sc.AnnData()\n",
    "\n",
    "        # Read the matrix using scanpy\n",
    "        adata = sc.read_mtx(matrix_file)\n",
    "        adata = adata.transpose()\n",
    "\n",
    "        # Read barcodes and features using pandas\n",
    "        barcodes = pd.read_csv(barcodes_file, sep=\"\\t\", header=None, names=[\"barcode\"])\n",
    "        features = pd.read_csv(features_file, sep=\"\\t\", header=None, names=[\"gene_name\"])\n",
    "\n",
    "        # Set obs_names and var_names\n",
    "        adata.obs_names = barcodes[\"barcode\"]\n",
    "        adata.var_names = features[\"gene_name\"]\n",
    "\n",
    "        anndata[wildcard] = adata\n",
    "\n",
    "    else:\n",
    "        print(f\"Required files not found in directory: {directory}\")\n"
   ]
  },
  {
   "cell_type": "code",
   "execution_count": 4,
   "metadata": {},
   "outputs": [],
   "source": [
    "# # Give each dataset their own label to keep track of where they came from\n",
    "# adatas = {\"A018\": adata1, \"A019\": adata2, \"A020\": adata3}\n",
    "\n",
    "# Combine the adata sets to one data set with the Concatenate function, we use 'outer' to preserve as much data as possible. Missing variablles will become NaN values\n",
    "adatas = ad.concat(adata, label=\"dataset_origin\", join=\"outer\")\n"
   ]
  },
  {
   "cell_type": "code",
   "execution_count": null,
   "metadata": {},
   "outputs": [],
   "source": [
    "adatas.write_h5ad(filename=\"/scratch/bvdberg/SoloTE/scripts/bonemarrow_collection.h5ad\")\n"
   ]
  }
 ],
 "metadata": {
  "kernelspec": {
   "display_name": "scanpy",
   "language": "python",
   "name": "scanpy"
  },
  "language_info": {
   "codemirror_mode": {
    "name": "ipython",
    "version": 3
   },
   "file_extension": ".py",
   "mimetype": "text/x-python",
   "name": "python",
   "nbconvert_exporter": "python",
   "pygments_lexer": "ipython3",
   "version": "3.11.6"
  }
 },
 "nbformat": 4,
 "nbformat_minor": 2
}
